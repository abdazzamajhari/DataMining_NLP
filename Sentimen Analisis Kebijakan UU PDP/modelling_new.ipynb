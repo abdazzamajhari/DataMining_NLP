{
 "cells": [
  {
   "cell_type": "code",
   "execution_count": 1,
   "id": "bc4e3928",
   "metadata": {},
   "outputs": [
    {
     "data": {
      "text/html": [
       "<div>\n",
       "<style scoped>\n",
       "    .dataframe tbody tr th:only-of-type {\n",
       "        vertical-align: middle;\n",
       "    }\n",
       "\n",
       "    .dataframe tbody tr th {\n",
       "        vertical-align: top;\n",
       "    }\n",
       "\n",
       "    .dataframe thead th {\n",
       "        text-align: right;\n",
       "    }\n",
       "</style>\n",
       "<table border=\"1\" class=\"dataframe\">\n",
       "  <thead>\n",
       "    <tr style=\"text-align: right;\">\n",
       "      <th></th>\n",
       "      <th>created_at</th>\n",
       "      <th>user</th>\n",
       "      <th>text_clean</th>\n",
       "      <th>text_preprocessed</th>\n",
       "      <th>polarity_score</th>\n",
       "      <th>polarity</th>\n",
       "    </tr>\n",
       "  </thead>\n",
       "  <tbody>\n",
       "    <tr>\n",
       "      <th>0</th>\n",
       "      <td>2022-10-28 10:54:54+00:00</td>\n",
       "      <td>Om Udien Official</td>\n",
       "      <td>wisnu    uu pdp akan memperkuat kepercayaan da...</td>\n",
       "      <td>['wisnu', 'uu', 'pdp', 'kuat', 'percaya', 'aku...</td>\n",
       "      <td>1</td>\n",
       "      <td>positive</td>\n",
       "    </tr>\n",
       "    <tr>\n",
       "      <th>1</th>\n",
       "      <td>2022-10-28 09:08:46+00:00</td>\n",
       "      <td>Udien Marbot Official</td>\n",
       "      <td>semuel abrijani pangerapan mengatakan pengesah...</td>\n",
       "      <td>['semuel', 'abrijani', 'pangerapan', 'kesah', ...</td>\n",
       "      <td>2</td>\n",
       "      <td>positive</td>\n",
       "    </tr>\n",
       "    <tr>\n",
       "      <th>2</th>\n",
       "      <td>2022-10-28 09:00:33+00:00</td>\n",
       "      <td>Miwa</td>\n",
       "      <td>wisnu    keren setelah uu pdp akan membentuk l...</td>\n",
       "      <td>['wisnu', 'keren', 'uu', 'pdp', 'bentuk', 'lem...</td>\n",
       "      <td>1</td>\n",
       "      <td>positive</td>\n",
       "    </tr>\n",
       "    <tr>\n",
       "      <th>3</th>\n",
       "      <td>2022-10-28 08:58:26+00:00</td>\n",
       "      <td>Raavana</td>\n",
       "      <td>wisnu    tegas uu pdp lindungi hak warga negara</td>\n",
       "      <td>['wisnu', 'uu', 'pdp', 'lindung', 'hak', 'warg...</td>\n",
       "      <td>4</td>\n",
       "      <td>positive</td>\n",
       "    </tr>\n",
       "    <tr>\n",
       "      <th>4</th>\n",
       "      <td>2022-10-28 08:34:28+00:00</td>\n",
       "      <td>Ary Prasetyo</td>\n",
       "      <td>pengesahan undangundang pelindungan data priba...</td>\n",
       "      <td>['kesah', 'undangundang', 'lindung', 'data', '...</td>\n",
       "      <td>2</td>\n",
       "      <td>positive</td>\n",
       "    </tr>\n",
       "    <tr>\n",
       "      <th>...</th>\n",
       "      <td>...</td>\n",
       "      <td>...</td>\n",
       "      <td>...</td>\n",
       "      <td>...</td>\n",
       "      <td>...</td>\n",
       "      <td>...</td>\n",
       "    </tr>\n",
       "    <tr>\n",
       "      <th>241</th>\n",
       "      <td>2022-10-20 03:35:46+00:00</td>\n",
       "      <td>Aelda Prihatiwi</td>\n",
       "      <td>uu perlindungan data pribadi sudah diresmikan ...</td>\n",
       "      <td>['uu', 'lindung', 'data', 'pribadi', 'resmi', ...</td>\n",
       "      <td>-5</td>\n",
       "      <td>negative</td>\n",
       "    </tr>\n",
       "    <tr>\n",
       "      <th>242</th>\n",
       "      <td>2022-10-20 00:00:25+00:00</td>\n",
       "      <td>Julia Riyanti Wibowo</td>\n",
       "      <td>jokowi telah resmi menandatangani uu tentang p...</td>\n",
       "      <td>['jokowi', 'resmi', 'menandatangani', 'uu', 'l...</td>\n",
       "      <td>-1</td>\n",
       "      <td>negative</td>\n",
       "    </tr>\n",
       "    <tr>\n",
       "      <th>243</th>\n",
       "      <td>2022-10-19 18:45:39+00:00</td>\n",
       "      <td>Pradhana Adimukti</td>\n",
       "      <td>keduanya korban doxing btw so problemnya meman...</td>\n",
       "      <td>['korban', 'doxing', 'btw', 'so', 'problem', '...</td>\n",
       "      <td>-7</td>\n",
       "      <td>negative</td>\n",
       "    </tr>\n",
       "    <tr>\n",
       "      <th>244</th>\n",
       "      <td>2022-10-19 17:52:30+00:00</td>\n",
       "      <td>Abdi Mulia Lubis</td>\n",
       "      <td>jokowi telah resmi menandatangani uu tentang p...</td>\n",
       "      <td>['jokowi', 'resmi', 'menandatangani', 'uu', 'l...</td>\n",
       "      <td>-1</td>\n",
       "      <td>negative</td>\n",
       "    </tr>\n",
       "    <tr>\n",
       "      <th>245</th>\n",
       "      <td>2022-10-19 13:02:10+00:00</td>\n",
       "      <td>M. Fatahillah Akbar</td>\n",
       "      <td>sudah resmi dan dapat nomornnundang undang nom...</td>\n",
       "      <td>['resmi', 'nomornnundang', 'undang', 'nomor', ...</td>\n",
       "      <td>-7</td>\n",
       "      <td>negative</td>\n",
       "    </tr>\n",
       "  </tbody>\n",
       "</table>\n",
       "<p>246 rows × 6 columns</p>\n",
       "</div>"
      ],
      "text/plain": [
       "                    created_at                   user  \\\n",
       "0    2022-10-28 10:54:54+00:00      Om Udien Official   \n",
       "1    2022-10-28 09:08:46+00:00  Udien Marbot Official   \n",
       "2    2022-10-28 09:00:33+00:00                   Miwa   \n",
       "3    2022-10-28 08:58:26+00:00                Raavana   \n",
       "4    2022-10-28 08:34:28+00:00           Ary Prasetyo   \n",
       "..                         ...                    ...   \n",
       "241  2022-10-20 03:35:46+00:00        Aelda Prihatiwi   \n",
       "242  2022-10-20 00:00:25+00:00   Julia Riyanti Wibowo   \n",
       "243  2022-10-19 18:45:39+00:00      Pradhana Adimukti   \n",
       "244  2022-10-19 17:52:30+00:00       Abdi Mulia Lubis   \n",
       "245  2022-10-19 13:02:10+00:00    M. Fatahillah Akbar   \n",
       "\n",
       "                                            text_clean  \\\n",
       "0    wisnu    uu pdp akan memperkuat kepercayaan da...   \n",
       "1    semuel abrijani pangerapan mengatakan pengesah...   \n",
       "2    wisnu    keren setelah uu pdp akan membentuk l...   \n",
       "3      wisnu    tegas uu pdp lindungi hak warga negara   \n",
       "4    pengesahan undangundang pelindungan data priba...   \n",
       "..                                                 ...   \n",
       "241  uu perlindungan data pribadi sudah diresmikan ...   \n",
       "242  jokowi telah resmi menandatangani uu tentang p...   \n",
       "243  keduanya korban doxing btw so problemnya meman...   \n",
       "244  jokowi telah resmi menandatangani uu tentang p...   \n",
       "245  sudah resmi dan dapat nomornnundang undang nom...   \n",
       "\n",
       "                                     text_preprocessed  polarity_score  \\\n",
       "0    ['wisnu', 'uu', 'pdp', 'kuat', 'percaya', 'aku...               1   \n",
       "1    ['semuel', 'abrijani', 'pangerapan', 'kesah', ...               2   \n",
       "2    ['wisnu', 'keren', 'uu', 'pdp', 'bentuk', 'lem...               1   \n",
       "3    ['wisnu', 'uu', 'pdp', 'lindung', 'hak', 'warg...               4   \n",
       "4    ['kesah', 'undangundang', 'lindung', 'data', '...               2   \n",
       "..                                                 ...             ...   \n",
       "241  ['uu', 'lindung', 'data', 'pribadi', 'resmi', ...              -5   \n",
       "242  ['jokowi', 'resmi', 'menandatangani', 'uu', 'l...              -1   \n",
       "243  ['korban', 'doxing', 'btw', 'so', 'problem', '...              -7   \n",
       "244  ['jokowi', 'resmi', 'menandatangani', 'uu', 'l...              -1   \n",
       "245  ['resmi', 'nomornnundang', 'undang', 'nomor', ...              -7   \n",
       "\n",
       "     polarity  \n",
       "0    positive  \n",
       "1    positive  \n",
       "2    positive  \n",
       "3    positive  \n",
       "4    positive  \n",
       "..        ...  \n",
       "241  negative  \n",
       "242  negative  \n",
       "243  negative  \n",
       "244  negative  \n",
       "245  negative  \n",
       "\n",
       "[246 rows x 6 columns]"
      ]
     },
     "execution_count": 1,
     "metadata": {},
     "output_type": "execute_result"
    }
   ],
   "source": [
    "import pandas as pd\n",
    "\n",
    "df = pd.read_csv(r\"tweets_data_clean.csv\")\n",
    "df"
   ]
  },
  {
   "cell_type": "code",
   "execution_count": 2,
   "id": "686b9fa4",
   "metadata": {},
   "outputs": [
    {
     "name": "stdout",
     "output_type": "stream",
     "text": [
      "32\n",
      "107\n",
      "107\n"
     ]
    }
   ],
   "source": [
    "print(len(df[df['polarity'] == 'neutral']))\n",
    "print(len(df[df['polarity'] == 'negative']))\n",
    "print(len(df[df['polarity'] == 'positive']))"
   ]
  },
  {
   "cell_type": "code",
   "execution_count": 3,
   "id": "ec38861a",
   "metadata": {},
   "outputs": [
    {
     "data": {
      "text/html": [
       "<div>\n",
       "<style scoped>\n",
       "    .dataframe tbody tr th:only-of-type {\n",
       "        vertical-align: middle;\n",
       "    }\n",
       "\n",
       "    .dataframe tbody tr th {\n",
       "        vertical-align: top;\n",
       "    }\n",
       "\n",
       "    .dataframe thead th {\n",
       "        text-align: right;\n",
       "    }\n",
       "</style>\n",
       "<table border=\"1\" class=\"dataframe\">\n",
       "  <thead>\n",
       "    <tr style=\"text-align: right;\">\n",
       "      <th></th>\n",
       "      <th>created_at</th>\n",
       "      <th>user</th>\n",
       "      <th>text_clean</th>\n",
       "      <th>text_preprocessed</th>\n",
       "      <th>polarity_score</th>\n",
       "      <th>polarity</th>\n",
       "    </tr>\n",
       "  </thead>\n",
       "  <tbody>\n",
       "    <tr>\n",
       "      <th>0</th>\n",
       "      <td>2022-10-28 10:54:54+00:00</td>\n",
       "      <td>Om Udien Official</td>\n",
       "      <td>wisnu    uu pdp akan memperkuat kepercayaan da...</td>\n",
       "      <td>['wisnu', 'uu', 'pdp', 'kuat', 'percaya', 'aku...</td>\n",
       "      <td>1</td>\n",
       "      <td>positive</td>\n",
       "    </tr>\n",
       "    <tr>\n",
       "      <th>1</th>\n",
       "      <td>2022-10-28 09:08:46+00:00</td>\n",
       "      <td>Udien Marbot Official</td>\n",
       "      <td>semuel abrijani pangerapan mengatakan pengesah...</td>\n",
       "      <td>['semuel', 'abrijani', 'pangerapan', 'kesah', ...</td>\n",
       "      <td>2</td>\n",
       "      <td>positive</td>\n",
       "    </tr>\n",
       "    <tr>\n",
       "      <th>2</th>\n",
       "      <td>2022-10-28 09:00:33+00:00</td>\n",
       "      <td>Miwa</td>\n",
       "      <td>wisnu    keren setelah uu pdp akan membentuk l...</td>\n",
       "      <td>['wisnu', 'keren', 'uu', 'pdp', 'bentuk', 'lem...</td>\n",
       "      <td>1</td>\n",
       "      <td>positive</td>\n",
       "    </tr>\n",
       "    <tr>\n",
       "      <th>3</th>\n",
       "      <td>2022-10-28 08:58:26+00:00</td>\n",
       "      <td>Raavana</td>\n",
       "      <td>wisnu    tegas uu pdp lindungi hak warga negara</td>\n",
       "      <td>['wisnu', 'uu', 'pdp', 'lindung', 'hak', 'warg...</td>\n",
       "      <td>4</td>\n",
       "      <td>positive</td>\n",
       "    </tr>\n",
       "    <tr>\n",
       "      <th>4</th>\n",
       "      <td>2022-10-28 08:34:28+00:00</td>\n",
       "      <td>Ary Prasetyo</td>\n",
       "      <td>pengesahan undangundang pelindungan data priba...</td>\n",
       "      <td>['kesah', 'undangundang', 'lindung', 'data', '...</td>\n",
       "      <td>2</td>\n",
       "      <td>positive</td>\n",
       "    </tr>\n",
       "    <tr>\n",
       "      <th>...</th>\n",
       "      <td>...</td>\n",
       "      <td>...</td>\n",
       "      <td>...</td>\n",
       "      <td>...</td>\n",
       "      <td>...</td>\n",
       "      <td>...</td>\n",
       "    </tr>\n",
       "    <tr>\n",
       "      <th>241</th>\n",
       "      <td>2022-10-20 03:35:46+00:00</td>\n",
       "      <td>Aelda Prihatiwi</td>\n",
       "      <td>uu perlindungan data pribadi sudah diresmikan ...</td>\n",
       "      <td>['uu', 'lindung', 'data', 'pribadi', 'resmi', ...</td>\n",
       "      <td>-5</td>\n",
       "      <td>negative</td>\n",
       "    </tr>\n",
       "    <tr>\n",
       "      <th>242</th>\n",
       "      <td>2022-10-20 00:00:25+00:00</td>\n",
       "      <td>Julia Riyanti Wibowo</td>\n",
       "      <td>jokowi telah resmi menandatangani uu tentang p...</td>\n",
       "      <td>['jokowi', 'resmi', 'menandatangani', 'uu', 'l...</td>\n",
       "      <td>-1</td>\n",
       "      <td>negative</td>\n",
       "    </tr>\n",
       "    <tr>\n",
       "      <th>243</th>\n",
       "      <td>2022-10-19 18:45:39+00:00</td>\n",
       "      <td>Pradhana Adimukti</td>\n",
       "      <td>keduanya korban doxing btw so problemnya meman...</td>\n",
       "      <td>['korban', 'doxing', 'btw', 'so', 'problem', '...</td>\n",
       "      <td>-7</td>\n",
       "      <td>negative</td>\n",
       "    </tr>\n",
       "    <tr>\n",
       "      <th>244</th>\n",
       "      <td>2022-10-19 17:52:30+00:00</td>\n",
       "      <td>Abdi Mulia Lubis</td>\n",
       "      <td>jokowi telah resmi menandatangani uu tentang p...</td>\n",
       "      <td>['jokowi', 'resmi', 'menandatangani', 'uu', 'l...</td>\n",
       "      <td>-1</td>\n",
       "      <td>negative</td>\n",
       "    </tr>\n",
       "    <tr>\n",
       "      <th>245</th>\n",
       "      <td>2022-10-19 13:02:10+00:00</td>\n",
       "      <td>M. Fatahillah Akbar</td>\n",
       "      <td>sudah resmi dan dapat nomornnundang undang nom...</td>\n",
       "      <td>['resmi', 'nomornnundang', 'undang', 'nomor', ...</td>\n",
       "      <td>-7</td>\n",
       "      <td>negative</td>\n",
       "    </tr>\n",
       "  </tbody>\n",
       "</table>\n",
       "<p>214 rows × 6 columns</p>\n",
       "</div>"
      ],
      "text/plain": [
       "                    created_at                   user  \\\n",
       "0    2022-10-28 10:54:54+00:00      Om Udien Official   \n",
       "1    2022-10-28 09:08:46+00:00  Udien Marbot Official   \n",
       "2    2022-10-28 09:00:33+00:00                   Miwa   \n",
       "3    2022-10-28 08:58:26+00:00                Raavana   \n",
       "4    2022-10-28 08:34:28+00:00           Ary Prasetyo   \n",
       "..                         ...                    ...   \n",
       "241  2022-10-20 03:35:46+00:00        Aelda Prihatiwi   \n",
       "242  2022-10-20 00:00:25+00:00   Julia Riyanti Wibowo   \n",
       "243  2022-10-19 18:45:39+00:00      Pradhana Adimukti   \n",
       "244  2022-10-19 17:52:30+00:00       Abdi Mulia Lubis   \n",
       "245  2022-10-19 13:02:10+00:00    M. Fatahillah Akbar   \n",
       "\n",
       "                                            text_clean  \\\n",
       "0    wisnu    uu pdp akan memperkuat kepercayaan da...   \n",
       "1    semuel abrijani pangerapan mengatakan pengesah...   \n",
       "2    wisnu    keren setelah uu pdp akan membentuk l...   \n",
       "3      wisnu    tegas uu pdp lindungi hak warga negara   \n",
       "4    pengesahan undangundang pelindungan data priba...   \n",
       "..                                                 ...   \n",
       "241  uu perlindungan data pribadi sudah diresmikan ...   \n",
       "242  jokowi telah resmi menandatangani uu tentang p...   \n",
       "243  keduanya korban doxing btw so problemnya meman...   \n",
       "244  jokowi telah resmi menandatangani uu tentang p...   \n",
       "245  sudah resmi dan dapat nomornnundang undang nom...   \n",
       "\n",
       "                                     text_preprocessed  polarity_score  \\\n",
       "0    ['wisnu', 'uu', 'pdp', 'kuat', 'percaya', 'aku...               1   \n",
       "1    ['semuel', 'abrijani', 'pangerapan', 'kesah', ...               2   \n",
       "2    ['wisnu', 'keren', 'uu', 'pdp', 'bentuk', 'lem...               1   \n",
       "3    ['wisnu', 'uu', 'pdp', 'lindung', 'hak', 'warg...               4   \n",
       "4    ['kesah', 'undangundang', 'lindung', 'data', '...               2   \n",
       "..                                                 ...             ...   \n",
       "241  ['uu', 'lindung', 'data', 'pribadi', 'resmi', ...              -5   \n",
       "242  ['jokowi', 'resmi', 'menandatangani', 'uu', 'l...              -1   \n",
       "243  ['korban', 'doxing', 'btw', 'so', 'problem', '...              -7   \n",
       "244  ['jokowi', 'resmi', 'menandatangani', 'uu', 'l...              -1   \n",
       "245  ['resmi', 'nomornnundang', 'undang', 'nomor', ...              -7   \n",
       "\n",
       "     polarity  \n",
       "0    positive  \n",
       "1    positive  \n",
       "2    positive  \n",
       "3    positive  \n",
       "4    positive  \n",
       "..        ...  \n",
       "241  negative  \n",
       "242  negative  \n",
       "243  negative  \n",
       "244  negative  \n",
       "245  negative  \n",
       "\n",
       "[214 rows x 6 columns]"
      ]
     },
     "execution_count": 3,
     "metadata": {},
     "output_type": "execute_result"
    }
   ],
   "source": [
    "# Method 2 - Using the drop() function\n",
    "df.drop(df.index[df['polarity'] == 'neutral'], inplace=True)\n",
    "df"
   ]
  },
  {
   "cell_type": "code",
   "execution_count": 4,
   "id": "8cd65d5f",
   "metadata": {},
   "outputs": [
    {
     "data": {
      "image/png": "[encoded data removed]",
      "text/plain": [
       "<Figure size 640x480 with 1 Axes>"
      ]
     },
     "metadata": {},
     "output_type": "display_data"
    }
   ],
   "source": [
    "import matplotlib.pyplot as plt\n",
    "import numpy as np\n",
    "\n",
    "tweet_negative = len(df.loc[df['polarity'] == 'negative'])\n",
    "tweet_positive = len(df.loc[df['polarity'] == 'positive'])\n",
    "\n",
    "labels = 'Sentiment Negative', 'Sentiment Positive'\n",
    "sizes = np.array([tweet_negative, tweet_positive])\n",
    "colors = ['red', 'green']\n",
    "explode= (0.25, 0.25)\n",
    "def absolute_value(val):\n",
    "    a  = np.round(val/100.*sizes.sum(), 0)\n",
    "\n",
    "    a=  str(round(val,2))+\"%\"+'\\n'+str(a) +\" data\"\n",
    "    return a\n",
    "\n",
    "plt.pie(sizes, labels=labels, colors=colors,\n",
    "        autopct=absolute_value, explode=explode,shadow=True)\n",
    "\n",
    "plt.axis('equal')\n",
    "plt.title(\"\")\n",
    "plt.legend()\n",
    "plt.show()\n",
    "# plt.savefig(\"data split.jpg\",dpi=300)"
   ]
  },
  {
   "cell_type": "code",
   "execution_count": 5,
   "id": "65f851dd",
   "metadata": {},
   "outputs": [],
   "source": [
    "def toSentence(list_words):\n",
    "    sentence = ' '.join(word for word in list_words)\n",
    "    return sentence"
   ]
  },
  {
   "cell_type": "code",
   "execution_count": 6,
   "id": "0761a4bb",
   "metadata": {},
   "outputs": [
    {
     "name": "stdout",
     "output_type": "stream",
     "text": [
      "Requirement already satisfied: keras in /Users/bgbedul/opt/anaconda3/envs/sentimen-analisis/lib/python3.9/site-packages (2.10.0)\n",
      "Note: you may need to restart the kernel to use updated packages.\n"
     ]
    }
   ],
   "source": [
    "pip install keras"
   ]
  },
  {
   "cell_type": "code",
   "execution_count": 7,
   "id": "2969d4b9",
   "metadata": {},
   "outputs": [
    {
     "name": "stdout",
     "output_type": "stream",
     "text": [
      "Requirement already satisfied: tensorflow in /Users/bgbedul/opt/anaconda3/envs/sentimen-analisis/lib/python3.9/site-packages (2.10.0)\n",
      "Requirement already satisfied: opt-einsum>=2.3.2 in /Users/bgbedul/opt/anaconda3/envs/sentimen-analisis/lib/python3.9/site-packages (from tensorflow) (3.3.0)\n",
      "Requirement already satisfied: setuptools in /Users/bgbedul/opt/anaconda3/envs/sentimen-analisis/lib/python3.9/site-packages (from tensorflow) (63.4.1)\n",
      "Requirement already satisfied: termcolor>=1.1.0 in /Users/bgbedul/opt/anaconda3/envs/sentimen-analisis/lib/python3.9/site-packages (from tensorflow) (2.1.0)\n",
      "Requirement already satisfied: numpy>=1.20 in /Users/bgbedul/.local/lib/python3.9/site-packages (from tensorflow) (1.23.4)\n",
      "Requirement already satisfied: tensorboard<2.11,>=2.10 in /Users/bgbedul/opt/anaconda3/envs/sentimen-analisis/lib/python3.9/site-packages (from tensorflow) (2.10.1)\n",
      "Requirement already satisfied: grpcio<2.0,>=1.24.3 in /Users/bgbedul/opt/anaconda3/envs/sentimen-analisis/lib/python3.9/site-packages (from tensorflow) (1.50.0)\n",
      "Requirement already satisfied: wrapt>=1.11.0 in /Users/bgbedul/opt/anaconda3/envs/sentimen-analisis/lib/python3.9/site-packages (from tensorflow) (1.14.1)\n",
      "Requirement already satisfied: protobuf<3.20,>=3.9.2 in /Users/bgbedul/opt/anaconda3/envs/sentimen-analisis/lib/python3.9/site-packages (from tensorflow) (3.19.6)\n",
      "Requirement already satisfied: keras-preprocessing>=1.1.1 in /Users/bgbedul/opt/anaconda3/envs/sentimen-analisis/lib/python3.9/site-packages (from tensorflow) (1.1.2)\n",
      "Requirement already satisfied: libclang>=13.0.0 in /Users/bgbedul/opt/anaconda3/envs/sentimen-analisis/lib/python3.9/site-packages (from tensorflow) (14.0.6)\n",
      "Requirement already satisfied: packaging in /Users/bgbedul/opt/anaconda3/envs/sentimen-analisis/lib/python3.9/site-packages (from tensorflow) (21.3)\n",
      "Requirement already satisfied: absl-py>=1.0.0 in /Users/bgbedul/opt/anaconda3/envs/sentimen-analisis/lib/python3.9/site-packages (from tensorflow) (1.3.0)\n",
      "Requirement already satisfied: gast<=0.4.0,>=0.2.1 in /Users/bgbedul/opt/anaconda3/envs/sentimen-analisis/lib/python3.9/site-packages (from tensorflow) (0.4.0)\n",
      "Requirement already satisfied: typing-extensions>=3.6.6 in /Users/bgbedul/opt/anaconda3/envs/sentimen-analisis/lib/python3.9/site-packages (from tensorflow) (4.3.0)\n",
      "Requirement already satisfied: six>=1.12.0 in /Users/bgbedul/opt/anaconda3/envs/sentimen-analisis/lib/python3.9/site-packages (from tensorflow) (1.16.0)\n",
      "Requirement already satisfied: h5py>=2.9.0 in /Users/bgbedul/opt/anaconda3/envs/sentimen-analisis/lib/python3.9/site-packages (from tensorflow) (3.7.0)\n",
      "Requirement already satisfied: google-pasta>=0.1.1 in /Users/bgbedul/opt/anaconda3/envs/sentimen-analisis/lib/python3.9/site-packages (from tensorflow) (0.2.0)\n",
      "Requirement already satisfied: keras<2.11,>=2.10.0 in /Users/bgbedul/opt/anaconda3/envs/sentimen-analisis/lib/python3.9/site-packages (from tensorflow) (2.10.0)\n",
      "Requirement already satisfied: astunparse>=1.6.0 in /Users/bgbedul/opt/anaconda3/envs/sentimen-analisis/lib/python3.9/site-packages (from tensorflow) (1.6.3)\n",
      "Requirement already satisfied: tensorflow-io-gcs-filesystem>=0.23.1 in /Users/bgbedul/opt/anaconda3/envs/sentimen-analisis/lib/python3.9/site-packages (from tensorflow) (0.27.0)\n",
      "Requirement already satisfied: tensorflow-estimator<2.11,>=2.10.0 in /Users/bgbedul/opt/anaconda3/envs/sentimen-analisis/lib/python3.9/site-packages (from tensorflow) (2.10.0)\n",
      "Requirement already satisfied: flatbuffers>=2.0 in /Users/bgbedul/opt/anaconda3/envs/sentimen-analisis/lib/python3.9/site-packages (from tensorflow) (22.10.26)\n",
      "Requirement already satisfied: wheel<1.0,>=0.23.0 in /Users/bgbedul/opt/anaconda3/envs/sentimen-analisis/lib/python3.9/site-packages (from astunparse>=1.6.0->tensorflow) (0.37.1)\n",
      "Requirement already satisfied: tensorboard-data-server<0.7.0,>=0.6.0 in /Users/bgbedul/opt/anaconda3/envs/sentimen-analisis/lib/python3.9/site-packages (from tensorboard<2.11,>=2.10->tensorflow) (0.6.1)\n",
      "Requirement already satisfied: requests<3,>=2.21.0 in /Users/bgbedul/opt/anaconda3/envs/sentimen-analisis/lib/python3.9/site-packages (from tensorboard<2.11,>=2.10->tensorflow) (2.28.1)\n",
      "Requirement already satisfied: tensorboard-plugin-wit>=1.6.0 in /Users/bgbedul/opt/anaconda3/envs/sentimen-analisis/lib/python3.9/site-packages (from tensorboard<2.11,>=2.10->tensorflow) (1.8.1)\n",
      "Requirement already satisfied: markdown>=2.6.8 in /Users/bgbedul/opt/anaconda3/envs/sentimen-analisis/lib/python3.9/site-packages (from tensorboard<2.11,>=2.10->tensorflow) (3.4.1)\n",
      "Requirement already satisfied: werkzeug>=1.0.1 in /Users/bgbedul/opt/anaconda3/envs/sentimen-analisis/lib/python3.9/site-packages (from tensorboard<2.11,>=2.10->tensorflow) (2.2.2)\n",
      "Requirement already satisfied: google-auth-oauthlib<0.5,>=0.4.1 in /Users/bgbedul/opt/anaconda3/envs/sentimen-analisis/lib/python3.9/site-packages (from tensorboard<2.11,>=2.10->tensorflow) (0.4.6)\n",
      "Requirement already satisfied: google-auth<3,>=1.6.3 in /Users/bgbedul/opt/anaconda3/envs/sentimen-analisis/lib/python3.9/site-packages (from tensorboard<2.11,>=2.10->tensorflow) (2.13.0)\n",
      "Requirement already satisfied: pyparsing!=3.0.5,>=2.0.2 in /Users/bgbedul/opt/anaconda3/envs/sentimen-analisis/lib/python3.9/site-packages (from packaging->tensorflow) (3.0.9)\n",
      "Requirement already satisfied: cachetools<6.0,>=2.0.0 in /Users/bgbedul/opt/anaconda3/envs/sentimen-analisis/lib/python3.9/site-packages (from google-auth<3,>=1.6.3->tensorboard<2.11,>=2.10->tensorflow) (5.2.0)\n",
      "Requirement already satisfied: rsa<5,>=3.1.4 in /Users/bgbedul/opt/anaconda3/envs/sentimen-analisis/lib/python3.9/site-packages (from google-auth<3,>=1.6.3->tensorboard<2.11,>=2.10->tensorflow) (4.9)\n",
      "Requirement already satisfied: pyasn1-modules>=0.2.1 in /Users/bgbedul/opt/anaconda3/envs/sentimen-analisis/lib/python3.9/site-packages (from google-auth<3,>=1.6.3->tensorboard<2.11,>=2.10->tensorflow) (0.2.8)\n",
      "Requirement already satisfied: requests-oauthlib>=0.7.0 in /Users/bgbedul/opt/anaconda3/envs/sentimen-analisis/lib/python3.9/site-packages (from google-auth-oauthlib<0.5,>=0.4.1->tensorboard<2.11,>=2.10->tensorflow) (1.3.1)\n",
      "Requirement already satisfied: importlib-metadata>=4.4 in /Users/bgbedul/opt/anaconda3/envs/sentimen-analisis/lib/python3.9/site-packages (from markdown>=2.6.8->tensorboard<2.11,>=2.10->tensorflow) (5.0.0)\n",
      "Requirement already satisfied: certifi>=2017.4.17 in /Users/bgbedul/opt/anaconda3/envs/sentimen-analisis/lib/python3.9/site-packages (from requests<3,>=2.21.0->tensorboard<2.11,>=2.10->tensorflow) (2022.9.24)\n",
      "Requirement already satisfied: idna<4,>=2.5 in /Users/bgbedul/opt/anaconda3/envs/sentimen-analisis/lib/python3.9/site-packages (from requests<3,>=2.21.0->tensorboard<2.11,>=2.10->tensorflow) (3.4)\n",
      "Requirement already satisfied: urllib3<1.27,>=1.21.1 in /Users/bgbedul/opt/anaconda3/envs/sentimen-analisis/lib/python3.9/site-packages (from requests<3,>=2.21.0->tensorboard<2.11,>=2.10->tensorflow) (1.26.12)\n",
      "Requirement already satisfied: charset-normalizer<3,>=2 in /Users/bgbedul/opt/anaconda3/envs/sentimen-analisis/lib/python3.9/site-packages (from requests<3,>=2.21.0->tensorboard<2.11,>=2.10->tensorflow) (2.1.1)\n",
      "Requirement already satisfied: MarkupSafe>=2.1.1 in /Users/bgbedul/opt/anaconda3/envs/sentimen-analisis/lib/python3.9/site-packages (from werkzeug>=1.0.1->tensorboard<2.11,>=2.10->tensorflow) (2.1.1)\n",
      "Requirement already satisfied: zipp>=0.5 in /Users/bgbedul/opt/anaconda3/envs/sentimen-analisis/lib/python3.9/site-packages (from importlib-metadata>=4.4->markdown>=2.6.8->tensorboard<2.11,>=2.10->tensorflow) (3.10.0)\n",
      "Requirement already satisfied: pyasn1<0.5.0,>=0.4.6 in /Users/bgbedul/opt/anaconda3/envs/sentimen-analisis/lib/python3.9/site-packages (from pyasn1-modules>=0.2.1->google-auth<3,>=1.6.3->tensorboard<2.11,>=2.10->tensorflow) (0.4.8)\n",
      "Requirement already satisfied: oauthlib>=3.0.0 in /Users/bgbedul/opt/anaconda3/envs/sentimen-analisis/lib/python3.9/site-packages (from requests-oauthlib>=0.7.0->google-auth-oauthlib<0.5,>=0.4.1->tensorboard<2.11,>=2.10->tensorflow) (3.2.2)\n",
      "Note: you may need to restart the kernel to use updated packages.\n"
     ]
    }
   ],
   "source": [
    "pip install tensorflow"
   ]
  },
  {
   "cell_type": "code",
   "execution_count": 8,
   "id": "a21c200a",
   "metadata": {},
   "outputs": [
    {
     "name": "stderr",
     "output_type": "stream",
     "text": [
      "2022-10-31 09:16:27.990926: I tensorflow/core/platform/cpu_feature_guard.cc:193] This TensorFlow binary is optimized with oneAPI Deep Neural Network Library (oneDNN) to use the following CPU instructions in performance-critical operations:  AVX2 AVX512F AVX512_VNNI FMA\n",
      "To enable them in other operations, rebuild TensorFlow with the appropriate compiler flags.\n"
     ]
    },
    {
     "data": {
      "text/plain": [
       "0    wisnu    uu pdp akan memperkuat kepercayaan da...\n",
       "1    semuel abrijani pangerapan mengatakan pengesah...\n",
       "2    wisnu    keren setelah uu pdp akan membentuk l...\n",
       "3      wisnu    tegas uu pdp lindungi hak warga negara\n",
       "4    pengesahan undangundang pelindungan data priba...\n",
       "Name: text_clean, dtype: object"
      ]
     },
     "execution_count": 8,
     "metadata": {},
     "output_type": "execute_result"
    }
   ],
   "source": [
    "from nltk.tokenize import word_tokenize\n",
    "from keras.preprocessing.text import Tokenizer\n",
    "from keras_preprocessing.sequence import pad_sequences\n",
    "\n",
    "X = df['text_clean']\n",
    "X.head()"
   ]
  },
  {
   "cell_type": "code",
   "execution_count": 9,
   "id": "e8633eb0",
   "metadata": {},
   "outputs": [
    {
     "name": "stdout",
     "output_type": "stream",
     "text": [
      "Requirement already satisfied: sklearn in /Users/bgbedul/opt/anaconda3/envs/sentimen-analisis/lib/python3.9/site-packages (0.0)\n",
      "Requirement already satisfied: scikit-learn in /Users/bgbedul/opt/anaconda3/envs/sentimen-analisis/lib/python3.9/site-packages (from sklearn) (1.1.3)\n",
      "Requirement already satisfied: threadpoolctl>=2.0.0 in /Users/bgbedul/opt/anaconda3/envs/sentimen-analisis/lib/python3.9/site-packages (from scikit-learn->sklearn) (3.1.0)\n",
      "Requirement already satisfied: scipy>=1.3.2 in /Users/bgbedul/opt/anaconda3/envs/sentimen-analisis/lib/python3.9/site-packages (from scikit-learn->sklearn) (1.9.3)\n",
      "Requirement already satisfied: joblib>=1.0.0 in /Users/bgbedul/opt/anaconda3/envs/sentimen-analisis/lib/python3.9/site-packages (from scikit-learn->sklearn) (1.2.0)\n",
      "Requirement already satisfied: numpy>=1.17.3 in /Users/bgbedul/.local/lib/python3.9/site-packages (from scikit-learn->sklearn) (1.23.4)\n",
      "Note: you may need to restart the kernel to use updated packages.\n"
     ]
    }
   ],
   "source": [
    "pip install sklearn"
   ]
  },
  {
   "cell_type": "code",
   "execution_count": 10,
   "id": "2dac242d",
   "metadata": {},
   "outputs": [
    {
     "name": "stdout",
     "output_type": "stream",
     "text": [
      "(192,) (192,)\n",
      "(22,) (22,)\n"
     ]
    }
   ],
   "source": [
    "from sklearn.model_selection import train_test_split\n",
    "import numpy as np\n",
    "\n",
    "polarity_encode = {'negative':1, 'positive':0}\n",
    "\n",
    "y = df['polarity'].map(polarity_encode).values\n",
    "\n",
    "# y = df['polarity']\n",
    "\n",
    "SEED = 123 #used to help randomly select the data points\n",
    "\n",
    "# Splitting dataset into train, test, and validation dataset\n",
    "# stratify=y is activate for stratified sampling\n",
    "X_train, X_test, y_train, y_test = train_test_split(np.array(X), np.array(y), test_size=0.1, random_state=SEED, stratify=y)\n",
    "print(X_train.shape, y_train.shape)\n",
    "print(X_test.shape, y_test.shape)"
   ]
  },
  {
   "cell_type": "code",
   "execution_count": 11,
   "id": "e59c9d0f",
   "metadata": {},
   "outputs": [],
   "source": [
    "# Inisiasi vectorizer \n",
    "from sklearn.feature_extraction.text import CountVectorizer\n",
    "\n",
    "vect = CountVectorizer(analyzer='word')\n",
    "\n",
    "# Pelajari vocabulary dan ubah data train menjadi matriks\n",
    "vect.fit(X_train)\n",
    "\n",
    "X_train_vec = vect.transform(X_train)\n",
    "\n",
    "# lakukan hal yang sama dengan data testing\n",
    "X_test_vec = vect.transform(X_test)"
   ]
  },
  {
   "cell_type": "markdown",
   "id": "c3ff4279",
   "metadata": {},
   "source": [
    "## Multinomial Naive Bayes"
   ]
  },
  {
   "cell_type": "code",
   "execution_count": 12,
   "id": "9fb08dc6",
   "metadata": {},
   "outputs": [
    {
     "name": "stdout",
     "output_type": "stream",
     "text": [
      "425 µs ± 41.2 µs per loop (mean ± std. dev. of 7 runs, 1,000 loops each)\n"
     ]
    }
   ],
   "source": [
    "from sklearn.naive_bayes import MultinomialNB\n",
    "\n",
    "nb = MultinomialNB()\n",
    "%timeit nb.fit(X_train_vec, y_train)"
   ]
  },
  {
   "cell_type": "code",
   "execution_count": 13,
   "id": "16d76954",
   "metadata": {},
   "outputs": [],
   "source": [
    "y_pred = nb.predict(X_test_vec)\n",
    "# y_pred\n",
    "y_pred = [1 if e > 0.5 else 0 for e in y_pred]"
   ]
  },
  {
   "cell_type": "code",
   "execution_count": 14,
   "id": "fb2361f9",
   "metadata": {},
   "outputs": [
    {
     "name": "stdout",
     "output_type": "stream",
     "text": [
      "Cross-Validation Accuracy Scores [0.65       0.65       0.57894737 0.73684211 0.68421053 0.73684211\n",
      " 0.78947368 0.78947368 0.89473684 0.63157895]\n"
     ]
    }
   ],
   "source": [
    "from sklearn.model_selection import cross_val_score\n",
    "\n",
    "scores = cross_val_score(nb, X_train_vec, y_train, cv=10)\n",
    "print('Cross-Validation Accuracy Scores', scores)"
   ]
  },
  {
   "cell_type": "code",
   "execution_count": 15,
   "id": "50abadcc",
   "metadata": {},
   "outputs": [
    {
     "data": {
      "text/plain": [
       "(0.5789473684210527, 0.7142105263157894, 0.8947368421052632)"
      ]
     },
     "execution_count": 15,
     "metadata": {},
     "output_type": "execute_result"
    }
   ],
   "source": [
    "scores = pd.Series(scores)\n",
    "scores.min(), scores.mean(), scores.max()"
   ]
  },
  {
   "cell_type": "code",
   "execution_count": 16,
   "id": "736593c9",
   "metadata": {},
   "outputs": [
    {
     "name": "stdout",
     "output_type": "stream",
     "text": [
      "Cross-Validation Accuracy : 0.7727272727272727\n"
     ]
    }
   ],
   "source": [
    "score = nb.score(X_test_vec, y_test)\n",
    "print(\"Cross-Validation Accuracy :\", score)"
   ]
  },
  {
   "cell_type": "code",
   "execution_count": 17,
   "id": "1addf773",
   "metadata": {},
   "outputs": [
    {
     "name": "stdout",
     "output_type": "stream",
     "text": [
      "Train Accuracy : 0.9322916666666666\n"
     ]
    }
   ],
   "source": [
    "score = nb.score(X_train_vec, y_train)\n",
    "print(\"Train Accuracy :\", score)"
   ]
  },
  {
   "cell_type": "code",
   "execution_count": 18,
   "id": "c9ba89ec",
   "metadata": {},
   "outputs": [
    {
     "data": {
      "text/plain": [
       "0.4767312946227962"
      ]
     },
     "execution_count": 18,
     "metadata": {},
     "output_type": "execute_result"
    }
   ],
   "source": [
    "from sklearn.metrics import mean_squared_error\n",
    "\n",
    "mean_squared_error(y_test, y_pred, squared=False)"
   ]
  },
  {
   "cell_type": "code",
   "execution_count": 19,
   "id": "060c7c44",
   "metadata": {},
   "outputs": [
    {
     "name": "stdout",
     "output_type": "stream",
     "text": [
      "Requirement already satisfied: seaborn in /Users/bgbedul/opt/anaconda3/envs/sentimen-analisis/lib/python3.9/site-packages (0.12.1)\n",
      "Requirement already satisfied: pandas>=0.25 in /Users/bgbedul/.local/lib/python3.9/site-packages (from seaborn) (1.5.1)\n",
      "Requirement already satisfied: matplotlib!=3.6.1,>=3.1 in /Users/bgbedul/opt/anaconda3/envs/sentimen-analisis/lib/python3.9/site-packages (from seaborn) (3.6.0)\n",
      "Requirement already satisfied: numpy>=1.17 in /Users/bgbedul/.local/lib/python3.9/site-packages (from seaborn) (1.23.4)\n",
      "Requirement already satisfied: cycler>=0.10 in /Users/bgbedul/opt/anaconda3/envs/sentimen-analisis/lib/python3.9/site-packages (from matplotlib!=3.6.1,>=3.1->seaborn) (0.11.0)\n",
      "Requirement already satisfied: packaging>=20.0 in /Users/bgbedul/opt/anaconda3/envs/sentimen-analisis/lib/python3.9/site-packages (from matplotlib!=3.6.1,>=3.1->seaborn) (21.3)\n",
      "Requirement already satisfied: python-dateutil>=2.7 in /Users/bgbedul/opt/anaconda3/envs/sentimen-analisis/lib/python3.9/site-packages (from matplotlib!=3.6.1,>=3.1->seaborn) (2.8.2)\n",
      "Requirement already satisfied: pillow>=6.2.0 in /Users/bgbedul/opt/anaconda3/envs/sentimen-analisis/lib/python3.9/site-packages (from matplotlib!=3.6.1,>=3.1->seaborn) (9.2.0)\n",
      "Requirement already satisfied: contourpy>=1.0.1 in /Users/bgbedul/opt/anaconda3/envs/sentimen-analisis/lib/python3.9/site-packages (from matplotlib!=3.6.1,>=3.1->seaborn) (1.0.5)\n",
      "Requirement already satisfied: pyparsing>=2.2.1 in /Users/bgbedul/opt/anaconda3/envs/sentimen-analisis/lib/python3.9/site-packages (from matplotlib!=3.6.1,>=3.1->seaborn) (3.0.9)\n",
      "Requirement already satisfied: kiwisolver>=1.0.1 in /Users/bgbedul/opt/anaconda3/envs/sentimen-analisis/lib/python3.9/site-packages (from matplotlib!=3.6.1,>=3.1->seaborn) (1.4.4)\n",
      "Requirement already satisfied: fonttools>=4.22.0 in /Users/bgbedul/opt/anaconda3/envs/sentimen-analisis/lib/python3.9/site-packages (from matplotlib!=3.6.1,>=3.1->seaborn) (4.38.0)\n",
      "Requirement already satisfied: pytz>=2020.1 in /Users/bgbedul/opt/anaconda3/envs/sentimen-analisis/lib/python3.9/site-packages (from pandas>=0.25->seaborn) (2022.5)\n",
      "Requirement already satisfied: six>=1.5 in /Users/bgbedul/opt/anaconda3/envs/sentimen-analisis/lib/python3.9/site-packages (from python-dateutil>=2.7->matplotlib!=3.6.1,>=3.1->seaborn) (1.16.0)\n",
      "Note: you may need to restart the kernel to use updated packages.\n"
     ]
    }
   ],
   "source": [
    "pip install seaborn"
   ]
  },
  {
   "cell_type": "code",
   "execution_count": 20,
   "id": "cfe2afd2",
   "metadata": {},
   "outputs": [
    {
     "data": {
      "image/png": "[encoded data removed]",
      "text/plain": [
       "<Figure size 600x600 with 2 Axes>"
      ]
     },
     "metadata": {},
     "output_type": "display_data"
    }
   ],
   "source": [
    "from sklearn.metrics import precision_score, recall_score, f1_score, accuracy_score, confusion_matrix\n",
    "import seaborn as sns\n",
    "import matplotlib.pyplot as plt\n",
    "\n",
    "conf_matrix = confusion_matrix(y_test, y_pred)\n",
    "\n",
    "LABELS = [\"Positive\",\"Negative\"]\n",
    "plt.figure(figsize=(6, 6))\n",
    "sns.heatmap(conf_matrix, xticklabels=LABELS, yticklabels=LABELS, annot=True, fmt=\"d\");\n",
    "plt.title(\"Confusion matrix\")\n",
    "plt.ylabel('True class')\n",
    "plt.xlabel('Predicted class')\n",
    "plt.show()"
   ]
  },
  {
   "cell_type": "code",
   "execution_count": 21,
   "id": "aca2d457",
   "metadata": {},
   "outputs": [
    {
     "name": "stdout",
     "output_type": "stream",
     "text": [
      "              precision    recall  f1-score   support\n",
      "\n",
      "           0       0.80      0.73      0.76        11\n",
      "           1       0.75      0.82      0.78        11\n",
      "\n",
      "    accuracy                           0.77        22\n",
      "   macro avg       0.78      0.77      0.77        22\n",
      "weighted avg       0.78      0.77      0.77        22\n",
      "\n"
     ]
    }
   ],
   "source": [
    "# tampilkan hasil evaluasi model\n",
    "from sklearn.metrics import classification_report\n",
    "\n",
    "print(classification_report(y_test, y_pred))"
   ]
  },
  {
   "cell_type": "code",
   "execution_count": 22,
   "id": "ff864e2a",
   "metadata": {},
   "outputs": [
    {
     "name": "stdout",
     "output_type": "stream",
     "text": [
      "Accuracy =  77.27272727272727\n",
      "Precision =  75.0\n",
      "Recall =  81.81818181818183\n",
      "F1 Score =  78.26086956521738\n"
     ]
    }
   ],
   "source": [
    "from sklearn.metrics import precision_score, recall_score, f1_score, accuracy_score\n",
    "\n",
    "precision = precision_score(y_test, y_pred)\n",
    "accuracy = accuracy_score(y_test, y_pred)\n",
    "recall = recall_score(y_test, y_pred)\n",
    "f1 = f1_score(y_test, y_pred)\n",
    "\n",
    "print('Accuracy = ',accuracy*100)\n",
    "print('Precision = ',precision*100)\n",
    "print('Recall = ',recall*100)\n",
    "print('F1 Score = ',f1*100)"
   ]
  },
  {
   "cell_type": "markdown",
   "id": "9fcc92c6",
   "metadata": {},
   "source": [
    "## Support Vector Machine"
   ]
  },
  {
   "cell_type": "code",
   "execution_count": 23,
   "id": "379fad24",
   "metadata": {},
   "outputs": [
    {
     "name": "stdout",
     "output_type": "stream",
     "text": [
      "7.39 ms ± 867 µs per loop (mean ± std. dev. of 7 runs, 100 loops each)\n"
     ]
    }
   ],
   "source": [
    "from sklearn.svm import SVC\n",
    "\n",
    "svc = SVC()\n",
    "%timeit svc.fit(X_train_vec, y_train)"
   ]
  },
  {
   "cell_type": "code",
   "execution_count": 24,
   "id": "ca08cc0b",
   "metadata": {},
   "outputs": [],
   "source": [
    "y_pred = svc.predict(X_test_vec)\n",
    "# y_pred\n",
    "y_pred = [1 if e > 0.5 else 0 for e in y_pred]"
   ]
  },
  {
   "cell_type": "code",
   "execution_count": 25,
   "id": "1f933fd3",
   "metadata": {},
   "outputs": [
    {
     "name": "stdout",
     "output_type": "stream",
     "text": [
      "Cross-Validation Accuracy Scores [0.5        0.75       0.78947368 0.89473684 0.84210526 0.73684211\n",
      " 0.73684211 0.89473684 0.94736842 0.73684211]\n"
     ]
    }
   ],
   "source": [
    "from sklearn.model_selection import cross_val_score\n",
    "\n",
    "scores = cross_val_score(svc, X_train_vec, y_train, cv=10)\n",
    "print('Cross-Validation Accuracy Scores', scores)"
   ]
  },
  {
   "cell_type": "code",
   "execution_count": 26,
   "id": "0f4044b9",
   "metadata": {},
   "outputs": [
    {
     "data": {
      "text/plain": [
       "(0.5, 0.7828947368421052, 0.9473684210526315)"
      ]
     },
     "execution_count": 26,
     "metadata": {},
     "output_type": "execute_result"
    }
   ],
   "source": [
    "scores = pd.Series(scores)\n",
    "scores.min(), scores.mean(), scores.max()"
   ]
  },
  {
   "cell_type": "code",
   "execution_count": 27,
   "id": "dc1d3fa0",
   "metadata": {},
   "outputs": [
    {
     "name": "stdout",
     "output_type": "stream",
     "text": [
      "Cross-Validation Accuracy:  0.7272727272727273\n"
     ]
    }
   ],
   "source": [
    "score = svc.score(X_test_vec, y_test)\n",
    "print(\"Cross-Validation Accuracy: \", score)"
   ]
  },
  {
   "cell_type": "code",
   "execution_count": 28,
   "id": "557efa88",
   "metadata": {},
   "outputs": [
    {
     "name": "stdout",
     "output_type": "stream",
     "text": [
      "Train Accuracy : 0.9583333333333334\n"
     ]
    }
   ],
   "source": [
    "score = svc.score(X_train_vec, y_train)\n",
    "print(\"Train Accuracy :\", score)"
   ]
  },
  {
   "cell_type": "code",
   "execution_count": 29,
   "id": "7d97ad3a",
   "metadata": {},
   "outputs": [
    {
     "data": {
      "text/plain": [
       "0.5222329678670935"
      ]
     },
     "execution_count": 29,
     "metadata": {},
     "output_type": "execute_result"
    }
   ],
   "source": [
    "from sklearn.metrics import mean_squared_error\n",
    "\n",
    "mean_squared_error(y_test, y_pred, squared=False)"
   ]
  },
  {
   "cell_type": "code",
   "execution_count": 30,
   "id": "99f18917",
   "metadata": {},
   "outputs": [
    {
     "data": {
      "image/png": "[encoded data removed]",
      "text/plain": [
       "<Figure size 600x600 with 2 Axes>"
      ]
     },
     "metadata": {},
     "output_type": "display_data"
    }
   ],
   "source": [
    "from sklearn.metrics import precision_score, recall_score, f1_score, accuracy_score, confusion_matrix\n",
    "import seaborn as sns\n",
    "import matplotlib.pyplot as plt\n",
    "\n",
    "conf_matrix = confusion_matrix(y_test, y_pred)\n",
    "\n",
    "LABELS = [\"Positive\",\"Negative\"]\n",
    "plt.figure(figsize=(6, 6))\n",
    "sns.heatmap(conf_matrix, xticklabels=LABELS, yticklabels=LABELS, annot=True, fmt=\"d\");\n",
    "plt.title(\"Confusion matrix\")\n",
    "plt.ylabel('True class')\n",
    "plt.xlabel('Predicted class')\n",
    "plt.show()"
   ]
  },
  {
   "cell_type": "code",
   "execution_count": 31,
   "id": "66897512",
   "metadata": {},
   "outputs": [
    {
     "name": "stdout",
     "output_type": "stream",
     "text": [
      "              precision    recall  f1-score   support\n",
      "\n",
      "           0       0.69      0.82      0.75        11\n",
      "           1       0.78      0.64      0.70        11\n",
      "\n",
      "    accuracy                           0.73        22\n",
      "   macro avg       0.74      0.73      0.73        22\n",
      "weighted avg       0.74      0.73      0.73        22\n",
      "\n"
     ]
    }
   ],
   "source": [
    "# tampilkan hasil evaluasi model\n",
    "from sklearn.metrics import classification_report\n",
    "\n",
    "print(classification_report(y_test, y_pred))"
   ]
  },
  {
   "cell_type": "code",
   "execution_count": 32,
   "id": "99a7d243",
   "metadata": {},
   "outputs": [
    {
     "name": "stdout",
     "output_type": "stream",
     "text": [
      "Accuracy =  72.72727272727273\n",
      "Precision =  77.77777777777779\n",
      "Recall =  63.63636363636363\n",
      "F1 Score =  70.0\n"
     ]
    }
   ],
   "source": [
    "from sklearn.metrics import precision_score, recall_score, f1_score, accuracy_score\n",
    "\n",
    "precision = precision_score(y_test, y_pred)\n",
    "accuracy = accuracy_score(y_test, y_pred)\n",
    "recall = recall_score(y_test, y_pred)\n",
    "f1 = f1_score(y_test, y_pred)\n",
    "\n",
    "print('Accuracy = ',accuracy*100)\n",
    "print('Precision = ',precision*100)\n",
    "print('Recall = ',recall*100)\n",
    "print('F1 Score = ',f1*100)"
   ]
  },
  {
   "cell_type": "markdown",
   "id": "69d6c1b3",
   "metadata": {},
   "source": [
    "## Evaluation"
   ]
  },
  {
   "cell_type": "code",
   "execution_count": 33,
   "id": "0ddb278b",
   "metadata": {},
   "outputs": [],
   "source": [
    "# coba tes\n",
    "new_tes = [\"uu perlindungan data pribadi sangat baik dan telah diterapkan pemerintah\", \n",
    "           \"data pribadi saja tidak dapat dijaga, sok mengesahkan uu pdp\", \n",
    "           \"uu pdp tidak ada pengaruhnya untuk kita\",\n",
    "           \"pemerintah satu langkah lebih baik dengan uu pdp\"\n",
    "          ]\n",
    "\n",
    "new_tes_vect = vect.transform(new_tes)"
   ]
  },
  {
   "cell_type": "code",
   "execution_count": 34,
   "id": "45e1567b",
   "metadata": {},
   "outputs": [
    {
     "name": "stdout",
     "output_type": "stream",
     "text": [
      "Prediksi Multinomial Naive Bayes : [1 1 1 1]\n",
      "Prediksi Support Vector Machine : [1 0 1 0]\n"
     ]
    }
   ],
   "source": [
    "nb = nb.predict(new_tes_vect)\n",
    "svc = svc.predict(new_tes_vect)\n",
    "\n",
    "print(\"Prediksi Multinomial Naive Bayes :\", nb)\n",
    "print(\"Prediksi Support Vector Machine :\", svc)"
   ]
  },
  {
   "cell_type": "code",
   "execution_count": null,
   "id": "3fa7e14a",
   "metadata": {},
   "outputs": [],
   "source": []
  }
 ],
 "metadata": {
  "kernelspec": {
   "display_name": "Python 3 (ipykernel)",
   "language": "python",
   "name": "python3"
  },
  "language_info": {
   "codemirror_mode": {
    "name": "ipython",
    "version": 3
   },
   "file_extension": ".py",
   "mimetype": "text/x-python",
   "name": "python",
   "nbconvert_exporter": "python",
   "pygments_lexer": "ipython3",
   "version": "3.9.12"
  }
 },
 "nbformat": 4,
 "nbformat_minor": 5
}
