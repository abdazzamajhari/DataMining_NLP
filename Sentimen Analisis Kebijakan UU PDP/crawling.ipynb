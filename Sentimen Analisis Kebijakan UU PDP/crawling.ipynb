{
 "cells": [
  {
   "cell_type": "code",
   "execution_count": 2,
   "id": "16c58c0c",
   "metadata": {},
   "outputs": [
    {
     "name": "stdout",
     "output_type": "stream",
     "text": [
      "Collecting tweepy\n",
      "  Downloading tweepy-4.12.0-py3-none-any.whl (101 kB)\n",
      "\u001b[2K     \u001b[90m━━━━━━━━━━━━━━━━━━━━━━━━━━━━━━━━━━━━━━━\u001b[0m \u001b[32m101.2/101.2 kB\u001b[0m \u001b[31m1.5 MB/s\u001b[0m eta \u001b[36m0:00:00\u001b[0ma \u001b[36m0:00:01\u001b[0m\n",
      "\u001b[?25hCollecting requests<3,>=2.27.0\n",
      "  Downloading requests-2.28.1-py3-none-any.whl (62 kB)\n",
      "\u001b[2K     \u001b[90m━━━━━━━━━━━━━━━━━━━━━━━━━━━━━━━━━━━━━━━━\u001b[0m \u001b[32m62.8/62.8 kB\u001b[0m \u001b[31m2.0 MB/s\u001b[0m eta \u001b[36m0:00:00\u001b[0m\n",
      "\u001b[?25hCollecting oauthlib<4,>=3.2.0\n",
      "  Downloading oauthlib-3.2.2-py3-none-any.whl (151 kB)\n",
      "\u001b[2K     \u001b[90m━━━━━━━━━━━━━━━━━━━━━━━━━━━━━━━━━━━━━━━\u001b[0m \u001b[32m151.7/151.7 kB\u001b[0m \u001b[31m3.0 MB/s\u001b[0m eta \u001b[36m0:00:00\u001b[0ma \u001b[36m0:00:01\u001b[0m\n",
      "\u001b[?25hCollecting requests-oauthlib<2,>=1.2.0\n",
      "  Downloading requests_oauthlib-1.3.1-py2.py3-none-any.whl (23 kB)\n",
      "Collecting urllib3<1.27,>=1.21.1\n",
      "  Downloading urllib3-1.26.12-py2.py3-none-any.whl (140 kB)\n",
      "\u001b[2K     \u001b[90m━━━━━━━━━━━━━━━━━━━━━━━━━━━━━━━━━━━━━━━\u001b[0m \u001b[32m140.4/140.4 kB\u001b[0m \u001b[31m4.8 MB/s\u001b[0m eta \u001b[36m0:00:00\u001b[0m\n",
      "\u001b[?25hCollecting idna<4,>=2.5\n",
      "  Downloading idna-3.4-py3-none-any.whl (61 kB)\n",
      "\u001b[2K     \u001b[90m━━━━━━━━━━━━━━━━━━━━━━━━━━━━━━━━━━━━━━━━\u001b[0m \u001b[32m61.5/61.5 kB\u001b[0m \u001b[31m2.2 MB/s\u001b[0m eta \u001b[36m0:00:00\u001b[0m\n",
      "\u001b[?25hCollecting charset-normalizer<3,>=2\n",
      "  Downloading charset_normalizer-2.1.1-py3-none-any.whl (39 kB)\n",
      "Requirement already satisfied: certifi>=2017.4.17 in /Users/bgbedul/opt/anaconda3/envs/sentimen-analisis/lib/python3.9/site-packages (from requests<3,>=2.27.0->tweepy) (2022.9.24)\n",
      "Installing collected packages: urllib3, oauthlib, idna, charset-normalizer, requests, requests-oauthlib, tweepy\n",
      "Successfully installed charset-normalizer-2.1.1 idna-3.4 oauthlib-3.2.2 requests-2.28.1 requests-oauthlib-1.3.1 tweepy-4.12.0 urllib3-1.26.12\n",
      "Note: you may need to restart the kernel to use updated packages.\n"
     ]
    }
   ],
   "source": [
    "pip install tweepy"
   ]
  },
  {
   "cell_type": "code",
   "execution_count": 5,
   "id": "a51abf76",
   "metadata": {},
   "outputs": [],
   "source": [
    "# https://blog.javan.co.id/crawling-data-twitter-menggunakan-python-postman-cffbf14f962c\n",
    "\n",
    "import tweepy\n",
    "import csv\n",
    "\n",
    "access_token = '1342392531359682560-D7JBU2jigpySHc5W9o3jdCVK6jLMDo'\n",
    "access_token_secret = 'VOx7W6KTs7PrKk6afLuv9orOeaRs8ujIjVgutCNysDG9j'\n",
    "consumer_key = 'oxxQTv6HRJV9oRkYKmEVZ6c5f'\n",
    "consumer_secret = 'Trf22Tjqncw8j3l8FD1f02p44n0Pjqh2Fhbrv7XMwR5mpz3YT5'\n",
    "\n",
    "auth = tweepy.OAuthHandler(consumer_key,consumer_secret)\n",
    "api = tweepy.API(auth)\n",
    "\n",
    "# Open/create a file to append data to\n",
    "csvFile = open('uunomor7tahun2022.csv', 'w', encoding='utf-8')\n",
    "\n",
    "#Use csv writer\n",
    "csvWriter = csv.writer(csvFile)\n",
    "for tweet in tweepy.Cursor(api.search_tweets, \n",
    "                           q='uu nomor 7 tahun 2022 -filter:retweets', \n",
    "                           tweet_mode='extended',\n",
    "                           lang=\"id\").items(10000):\n",
    "    text = tweet.full_text\n",
    "    user = tweet.user.name\n",
    "    created = tweet.created_at\n",
    "    csvWriter.writerow([created, text.encode('utf-8'), user])\n",
    "csvWriter = csv.writer(csvFile)\n",
    "csvFile.close()"
   ]
  },
  {
   "cell_type": "code",
   "execution_count": null,
   "id": "8c62e0a3",
   "metadata": {},
   "outputs": [],
   "source": []
  }
 ],
 "metadata": {
  "kernelspec": {
   "display_name": "Python 3 (ipykernel)",
   "language": "python",
   "name": "python3"
  },
  "language_info": {
   "codemirror_mode": {
    "name": "ipython",
    "version": 3
   },
   "file_extension": ".py",
   "mimetype": "text/x-python",
   "name": "python",
   "nbconvert_exporter": "python",
   "pygments_lexer": "ipython3",
   "version": "3.9.13"
  }
 },
 "nbformat": 4,
 "nbformat_minor": 5
}
